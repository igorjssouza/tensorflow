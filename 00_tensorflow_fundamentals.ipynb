{
 "cells": [
  {
   "cell_type": "markdown",
   "id": "1d0add73",
   "metadata": {},
   "source": [
    "# In this notebook, we're going to cover some of the most fundamental concepts of tensors using TensorFlow\n",
    "\n",
    "More spceificall, we're going yo cover:\n",
    "* Introduction to tensors\n",
    "* getting information from tensors\n",
    "* Manipulating tensors\n",
    "* Tensros & NumPY\n",
    "* Using @tf.functions (a way to speed up yout regular Python functions)\n",
    "* Using GPUs with TensorFlow (or TPU's)\n",
    "* Exercises to try yourself"
   ]
  },
  {
   "cell_type": "code",
   "execution_count": null,
   "id": "588e2b7d",
   "metadata": {},
   "outputs": [],
   "source": [
    "# Import TensorFlow\n",
    "import tensorflow as tf\n",
    "print(tf.__version__)"
   ]
  },
  {
   "cell_type": "code",
   "execution_count": null,
   "id": "9a4f197d",
   "metadata": {},
   "outputs": [],
   "source": [
    "# Create tensorws with tf.constant()\n",
    "scalar = tf.constant(7)\n",
    "scalar"
   ]
  },
  {
   "cell_type": "code",
   "execution_count": null,
   "id": "a63ca252",
   "metadata": {},
   "outputs": [],
   "source": [
    "# Check the number of dimensions of a tensor (ndim stands for number of dimensions)\n",
    "scalar.ndim"
   ]
  },
  {
   "cell_type": "code",
   "execution_count": null,
   "id": "33e5e5e6",
   "metadata": {},
   "outputs": [],
   "source": [
    "# Create a vector\n",
    "vector = tf.constant([10,10])\n",
    "vector"
   ]
  },
  {
   "cell_type": "code",
   "execution_count": null,
   "id": "06ba3ed9",
   "metadata": {},
   "outputs": [],
   "source": [
    "vector.ndim"
   ]
  },
  {
   "cell_type": "code",
   "execution_count": null,
   "id": "693da040",
   "metadata": {},
   "outputs": [],
   "source": [
    "#create a matrix\n",
    "matrix = tf.constant([[2.,3.,3.],[3.,2.,1.],[.34,3.,2.]])\n",
    "matrix"
   ]
  },
  {
   "cell_type": "code",
   "execution_count": null,
   "id": "feb85e15",
   "metadata": {},
   "outputs": [],
   "source": [
    "matrix.ndim"
   ]
  },
  {
   "cell_type": "code",
   "execution_count": null,
   "id": "70a766a4",
   "metadata": {},
   "outputs": [],
   "source": [
    "# Create a tensor\n",
    "tensor = tf.constant([[[1,2,3],\n",
    "                       [4,5,6 ]],\n",
    "                      [[7,8,9],\n",
    "                       [10,11,12]],\n",
    "                      [[13,14,15],\n",
    "                       [16,17,18]],\n",
    "                      [[19,20,21],\n",
    "                       [22,23,24]]])\n",
    "tensor"
   ]
  },
  {
   "cell_type": "code",
   "execution_count": null,
   "id": "02dd3f03",
   "metadata": {},
   "outputs": [],
   "source": [
    "tensor.ndim # regardin the shape lenght"
   ]
  },
  {
   "cell_type": "markdown",
   "id": "39ee0736",
   "metadata": {},
   "source": [
    "# Creating  tensors with tf.Variable"
   ]
  },
  {
   "cell_type": "code",
   "execution_count": null,
   "id": "0c1593fe",
   "metadata": {},
   "outputs": [],
   "source": [
    "changeable_tensor = tf.Variable([10,7])\n",
    "unchangeable_tensor = tf.constant([10,7])\n",
    "changeable_tensor, unchangeable_tensor"
   ]
  },
  {
   "cell_type": "code",
   "execution_count": null,
   "id": "8de4e493",
   "metadata": {},
   "outputs": [],
   "source": [
    "# the zero represents the first position from the list [10,7]\n",
    "changeable_tensor[0].assign(7)"
   ]
  },
  {
   "cell_type": "code",
   "execution_count": null,
   "id": "91df7c42",
   "metadata": {},
   "outputs": [],
   "source": [
    "unchangeable_tensor[0].assign(7)"
   ]
  },
  {
   "cell_type": "code",
   "execution_count": null,
   "id": "fa398a86",
   "metadata": {},
   "outputs": [],
   "source": [
    "unchangeable_tensor[0]=7"
   ]
  },
  {
   "cell_type": "code",
   "execution_count": null,
   "id": "3b4a9215",
   "metadata": {},
   "outputs": [],
   "source": [
    "changeable_tensor[0]=7"
   ]
  },
  {
   "cell_type": "code",
   "execution_count": null,
   "id": "37ec40d5",
   "metadata": {},
   "outputs": [],
   "source": [
    "changeable_tensor"
   ]
  },
  {
   "cell_type": "code",
   "execution_count": null,
   "id": "ce035dca",
   "metadata": {},
   "outputs": [],
   "source": [
    "changeable_tensor.ndim"
   ]
  },
  {
   "cell_type": "code",
   "execution_count": null,
   "id": "fe117c5e",
   "metadata": {},
   "outputs": [],
   "source": [
    "unchangeable_tensor.ndim"
   ]
  },
  {
   "cell_type": "code",
   "execution_count": null,
   "id": "11b5ab48",
   "metadata": {},
   "outputs": [],
   "source": []
  }
 ],
 "metadata": {
  "kernelspec": {
   "display_name": "Python 3 (ipykernel)",
   "language": "python",
   "name": "python3"
  },
  "language_info": {
   "codemirror_mode": {
    "name": "ipython",
    "version": 3
   },
   "file_extension": ".py",
   "mimetype": "text/x-python",
   "name": "python",
   "nbconvert_exporter": "python",
   "pygments_lexer": "ipython3",
   "version": "3.11.3"
  }
 },
 "nbformat": 4,
 "nbformat_minor": 5
}
