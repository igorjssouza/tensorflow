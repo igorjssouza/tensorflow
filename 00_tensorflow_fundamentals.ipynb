{
 "cells": [
  {
   "cell_type": "markdown",
   "id": "1d0add73",
   "metadata": {},
   "source": [
    "# In this notebook, we're going to cover some of the most fundamental concepts of tensors using TensorFlow\n",
    "\n",
    "More spceificall, we're going yo cover:\n",
    "* Introduction to tensors\n",
    "* getting information from tensors\n",
    "* Manipulating tensors\n",
    "* Tensros & NumPY\n",
    "* Using @tf.functions (a way to speed up yout regular Python functions)\n",
    "* Using GPUs with TensorFlow (or TPU's)\n",
    "* Exercises to try yourself"
   ]
  },
  {
   "cell_type": "code",
   "execution_count": null,
   "id": "588e2b7d",
   "metadata": {},
   "outputs": [],
   "source": [
    "# Import TensorFlow\n",
    "import tensorflow as tf\n",
    "print(tf.__version__)"
   ]
  },
  {
   "cell_type": "code",
   "execution_count": null,
   "id": "9a4f197d",
   "metadata": {},
   "outputs": [],
   "source": [
    "# Create tensorws with tf.constant()\n",
    "scalar = tf.constant(7)\n",
    "scalar"
   ]
  },
  {
   "cell_type": "code",
   "execution_count": null,
   "id": "a63ca252",
   "metadata": {},
   "outputs": [],
   "source": [
    "# Check the number of dimensions of a tensor (ndim stands for number of dimensions)\n",
    "scalar.ndim"
   ]
  },
  {
   "cell_type": "code",
   "execution_count": null,
   "id": "55d68871",
   "metadata": {},
   "outputs": [],
   "source": []
  },
  {
   "cell_type": "code",
   "execution_count": null,
   "id": "33e5e5e6",
   "metadata": {},
   "outputs": [],
   "source": [
    "# Create a vector\n",
    "vector = tf.constant([10,10,2,4])\n",
    "vector"
   ]
  },
  {
   "cell_type": "code",
   "execution_count": null,
   "id": "06ba3ed9",
   "metadata": {},
   "outputs": [],
   "source": [
    "vector.ndim"
   ]
  },
  {
   "cell_type": "code",
   "execution_count": null,
   "id": "693da040",
   "metadata": {},
   "outputs": [],
   "source": [
    "#create a matrix\n",
    "matrix = tf.constant([[2.,3.,3.],[3.,2.,1.],[.34,3.,2.]])\n",
    "matrix"
   ]
  },
  {
   "cell_type": "code",
   "execution_count": null,
   "id": "feb85e15",
   "metadata": {},
   "outputs": [],
   "source": [
    "matrix.ndim"
   ]
  },
  {
   "cell_type": "code",
   "execution_count": null,
   "id": "70a766a4",
   "metadata": {},
   "outputs": [],
   "source": [
    "# Create a tensor\n",
    "tensor = tf.constant([[[1,2,3],[4,5,6 ]],[[7,8,9],[10,11,12]],[[13,14,15],[16,17,18]],[[19,20,21],[22,23,24]]])\n",
    "tensor"
   ]
  },
  {
   "cell_type": "code",
   "execution_count": null,
   "id": "02dd3f03",
   "metadata": {},
   "outputs": [],
   "source": [
    "tensor.ndim # regardin the shape lenght"
   ]
  },
  {
   "cell_type": "markdown",
   "id": "39ee0736",
   "metadata": {
    "slideshow": {
     "slide_type": "slide"
    }
   },
   "source": [
    "# Creating  tensors with tf.Variable"
   ]
  },
  {
   "cell_type": "code",
   "execution_count": null,
   "id": "0c1593fe",
   "metadata": {},
   "outputs": [],
   "source": [
    "changeable_tensor = tf.Variable([10,7])\n",
    "unchangeable_tensor = tf.constant([10,7])\n",
    "changeable_tensor, unchangeable_tensor"
   ]
  },
  {
   "cell_type": "code",
   "execution_count": null,
   "id": "8de4e493",
   "metadata": {},
   "outputs": [],
   "source": [
    "# the zero represents the first position from the list [10,7]\n",
    "changeable_tensor[0].assign(7)"
   ]
  },
  {
   "cell_type": "code",
   "execution_count": null,
   "id": "91df7c42",
   "metadata": {},
   "outputs": [],
   "source": [
    "unchangeable_tensor[0].assign(7)"
   ]
  },
  {
   "cell_type": "code",
   "execution_count": null,
   "id": "fa398a86",
   "metadata": {},
   "outputs": [],
   "source": [
    "unchangeable_tensor[0]=7"
   ]
  },
  {
   "cell_type": "code",
   "execution_count": null,
   "id": "3b4a9215",
   "metadata": {},
   "outputs": [],
   "source": []
  },
  {
   "cell_type": "code",
   "execution_count": null,
   "id": "37ec40d5",
   "metadata": {},
   "outputs": [],
   "source": []
  },
  {
   "cell_type": "code",
   "execution_count": null,
   "id": "ce035dca",
   "metadata": {},
   "outputs": [],
   "source": [
    "changeable_tensor.ndim"
   ]
  },
  {
   "cell_type": "code",
   "execution_count": null,
   "id": "fe117c5e",
   "metadata": {},
   "outputs": [],
   "source": [
    "unchangeable_tensor.ndim"
   ]
  },
  {
   "cell_type": "markdown",
   "id": "b84754c4",
   "metadata": {},
   "source": [
    "### Note: Rarely in practice will you need to decide whether to use tf.constant or tf.Variable to create tensors, as TensorFlow does this for you. However, if doubt, use tf.constant and change it later if need."
   ]
  },
  {
   "cell_type": "code",
   "execution_count": null,
   "id": "ae4a0710",
   "metadata": {},
   "outputs": [],
   "source": [
    "# Create two random tensors\n",
    "random_1 = tf.random.Generator.from_seed(42)\n",
    "random_1 = random_1.normal(shape=(3,2))\n",
    "random_2 = tf.random.Generator.from_seed(42)\n",
    "random_2 = random_2.normal(shape=(3,2))\n",
    "\n",
    "# Are they equal?\n",
    "random_1, random_2, random_1 == random_2"
   ]
  },
  {
   "cell_type": "code",
   "execution_count": null,
   "id": "903a5fdd",
   "metadata": {},
   "outputs": [],
   "source": [
    "random_1.ndim"
   ]
  },
  {
   "cell_type": "markdown",
   "id": "c37f6912",
   "metadata": {},
   "source": [
    "### Shuffle the order of elements to avoid overfit and learn the several kinds of images"
   ]
  },
  {
   "cell_type": "code",
   "execution_count": null,
   "id": "9248950c",
   "metadata": {},
   "outputs": [],
   "source": [
    "not_shuffled_1 = tf.constant([[11,7],\n",
    "                              [3,4],\n",
    "                              [2,7]])"
   ]
  },
  {
   "cell_type": "code",
   "execution_count": null,
   "id": "2042df81",
   "metadata": {},
   "outputs": [],
   "source": [
    "not_shuffled_2 = tf.constant([[11,7],\n",
    "                              [3,4],\n",
    "                              [2,7]])"
   ]
  },
  {
   "cell_type": "code",
   "execution_count": null,
   "id": "db26479a",
   "metadata": {},
   "outputs": [],
   "source": []
  },
  {
   "cell_type": "code",
   "execution_count": null,
   "id": "a6386335",
   "metadata": {},
   "outputs": [],
   "source": [
    "tf.random.set_seed(42) # global shuffle\n",
    "shuffled_1 = tf.random.shuffle(not_shuffled_1,seed=42)\n",
    "shuffled_2 = tf.random.shuffle(not_shuffled_2, seed=43)# local shuffle\n",
    "shuffled_1, shuffled_2, shuffled_1==shuffled_2"
   ]
  },
  {
   "cell_type": "markdown",
   "id": "1f5d0bd2",
   "metadata": {},
   "source": [
    "### Othes to create tensors"
   ]
  },
  {
   "cell_type": "code",
   "execution_count": null,
   "id": "abad2dfb",
   "metadata": {},
   "outputs": [],
   "source": [
    "tf.ones([10,7])"
   ]
  },
  {
   "cell_type": "code",
   "execution_count": null,
   "id": "a629d3d6",
   "metadata": {},
   "outputs": [],
   "source": [
    "tf.zeros([3,4])"
   ]
  },
  {
   "cell_type": "markdown",
   "id": "46af644e",
   "metadata": {},
   "source": [
    "### Turn Numpy arrays into tensors\n",
    "\n",
    "The main difference between numpy arrays and TensorFlow tensors is that tensors can be run on a GPU (much faster numerical computing)"
   ]
  },
  {
   "cell_type": "code",
   "execution_count": null,
   "id": "9dbb3c83",
   "metadata": {},
   "outputs": [],
   "source": [
    "import numpy as np"
   ]
  },
  {
   "cell_type": "code",
   "execution_count": null,
   "id": "8566831d",
   "metadata": {},
   "outputs": [],
   "source": [
    "numpy_A = np.arange(1,25,dtype=np.int32) # create a numpy array from 1 to 24\n",
    "numpy_A"
   ]
  },
  {
   "cell_type": "code",
   "execution_count": null,
   "id": "907bc731",
   "metadata": {},
   "outputs": [],
   "source": [
    "# tranform a numpy array in tyensor with several shape possibility \n",
    "A = tf.constant(numpy_A, shape = (3,8))\n",
    "B = tf.constant(numpy_A)\n",
    "A, B # The number of elements to the created tensor need to be equal to the numpy array: 24 = 2*3*4"
   ]
  },
  {
   "cell_type": "code",
   "execution_count": null,
   "id": "7f96257d",
   "metadata": {},
   "outputs": [],
   "source": [
    "# Application: Using set_seed to truncate the result provide by method.\n",
    "tf.random.set_seed(1)\n",
    "shuffle_tensor_A =tf.random.shuffle(tensor_A)\n",
    "shuffle_tensor_A"
   ]
  },
  {
   "cell_type": "code",
   "execution_count": null,
   "id": "4a2932ba",
   "metadata": {},
   "outputs": [],
   "source": [
    "shuffle_tensor_A.ndim"
   ]
  },
  {
   "cell_type": "markdown",
   "id": "9df35aff",
   "metadata": {},
   "source": [
    "# Getting information from tensors\n",
    " When dealing with tensors you probablyu wnat to be arare of the followin attirbutes:\n",
    "* Shape\n",
    " * Rank\n",
    "* Axis od dimension\n",
    "* Size"
   ]
  },
  {
   "cell_type": "code",
   "execution_count": null,
   "id": "e6f2bf73",
   "metadata": {},
   "outputs": [],
   "source": [
    "# creta a tensor 4 dimensions\n",
    "rank_4_tensor = tf.zeros(shape=(2,3,4,5))\n",
    "rank_4_tensor"
   ]
  },
  {
   "cell_type": "code",
   "execution_count": null,
   "id": "76ed13e7",
   "metadata": {},
   "outputs": [],
   "source": [
    "rank_4_tensor.shape, rank_4_tensor.ndim, tf.size(rank_4_tensor)"
   ]
  },
  {
   "cell_type": "code",
   "execution_count": null,
   "id": "e7f4b5ba",
   "metadata": {},
   "outputs": [],
   "source": [
    "print(\"Datatype of every element:\", rank_4_tensor.dtype)\n",
    "print(\"Number of dimension:\", rank_4_tensor.ndim)\n",
    "print(\"Shape of tensor:\", rank_4_tensor.shape)\n",
    "print(\"Elements along the 0 axis:\", rank_4_tensor.shape[0])\n",
    "print(\"Elements along the last axis:\", rank_4_tensor.shape[-1])\n",
    "print(\"Total numbers of elements in our tensor:\", tf.size(rank_4_tensor))\n",
    "print(\"Total numbers of elements in our tensor:\", tf.size(rank_4_tensor).numpy())"
   ]
  },
  {
   "cell_type": "code",
   "execution_count": null,
   "id": "1409c64d",
   "metadata": {},
   "outputs": [],
   "source": []
  }
 ],
 "metadata": {
  "kernelspec": {
   "display_name": "Python 3 (ipykernel)",
   "language": "python",
   "name": "python3"
  },
  "language_info": {
   "codemirror_mode": {
    "name": "ipython",
    "version": 3
   },
   "file_extension": ".py",
   "mimetype": "text/x-python",
   "name": "python",
   "nbconvert_exporter": "python",
   "pygments_lexer": "ipython3",
   "version": "3.11.4"
  }
 },
 "nbformat": 4,
 "nbformat_minor": 5
}
